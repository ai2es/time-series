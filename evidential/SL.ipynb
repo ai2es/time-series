{
 "cells": [
  {
   "cell_type": "code",
   "execution_count": 1,
   "metadata": {},
   "outputs": [],
   "source": [
    "from tqdm import tqdm\n",
    "import matplotlib\n",
    "import matplotlib.pyplot as plt\n",
    "import numpy as np\n",
    "import torch\n",
    "from torch import nn\n",
    "import torch.nn.functional as F\n",
    "from torch.utils.data.dataset import TensorDataset, Dataset\n",
    "from torch.utils.data.dataloader import DataLoader\n",
    "\n",
    "from evidential import LinearNormalGamma, evidential_regresssion_loss\n",
    "\n",
    "import yaml\n",
    "import pandas as pd\n",
    "from collections import defaultdict\n",
    "import random, os\n",
    "from sklearn.model_selection import train_test_split\n",
    "from sklearn.preprocessing import StandardScaler\n",
    "pd.options.mode.chained_assignment = None\n",
    "from scipy.stats import pearsonr\n",
    "from torch.optim.lr_scheduler import ReduceLROnPlateau"
   ]
  },
  {
   "cell_type": "code",
   "execution_count": 2,
   "metadata": {},
   "outputs": [],
   "source": [
    "%matplotlib inline"
   ]
  },
  {
   "cell_type": "code",
   "execution_count": 3,
   "metadata": {},
   "outputs": [],
   "source": [
    "def seed_everything(seed=1234):\n",
    "    random.seed(seed)\n",
    "    os.environ['PYTHONHASHSEED'] = str(seed)\n",
    "    np.random.seed(seed)\n",
    "    torch.manual_seed(seed)\n",
    "    if torch.cuda.is_available():\n",
    "        torch.cuda.manual_seed(seed)\n",
    "        torch.backends.cudnn.benchmark = True\n",
    "        torch.backends.cudnn.deterministic = True"
   ]
  },
  {
   "cell_type": "code",
   "execution_count": 4,
   "metadata": {},
   "outputs": [],
   "source": [
    "seed = 1000"
   ]
  },
  {
   "cell_type": "code",
   "execution_count": 5,
   "metadata": {},
   "outputs": [],
   "source": [
    "seed_everything(seed)"
   ]
  },
  {
   "cell_type": "code",
   "execution_count": 6,
   "metadata": {},
   "outputs": [],
   "source": [
    "is_cuda = torch.cuda.is_available()\n",
    "device = torch.device(torch.cuda.current_device()) if is_cuda else torch.device(\"cpu\")"
   ]
  },
  {
   "cell_type": "code",
   "execution_count": 7,
   "metadata": {},
   "outputs": [],
   "source": [
    "#deepCONUS: /glade/p/cisl/aiml/ai2es/deepconus/\n",
    "#GEFS_Bias: /glade/p/cisl/aiml/ksha/AI2ES/\n",
    "#Surface Layer (Idaho): /glade/p/cisl/aiml/fasteddy/idaho_derived_data_20210720.csv\n",
    "#Surface Layer (Cabauw): /glade/p/cisl/aiml/fasteddy/cabauw_derived_data_20210720.csv"
   ]
  },
  {
   "cell_type": "code",
   "execution_count": 8,
   "metadata": {},
   "outputs": [],
   "source": [
    "input_cols = [\n",
    "    'wind_speed:10_m:m_s-1',\n",
    "    'potential_temperature_skin_change:10_m:K_m-1',\n",
    "    'bulk_richardson:10_m:None',\n",
    "    'mixing_ratio_skin_change:2_m:g_kg-1_m-1'\n",
    "]\n",
    "output_cols = [\n",
    "    #\"friction_velocity:surface:m_s-1\",\n",
    "    \"kinematic_sensible_heat_flux:surface:K_m_s-1\",\n",
    "    #\"kinematic_latent_heat_flux:surface:g_kg-1_m_s-1\"\n",
    "]"
   ]
  },
  {
   "cell_type": "code",
   "execution_count": 9,
   "metadata": {},
   "outputs": [],
   "source": [
    "idaho = pd.read_csv(\"/glade/p/cisl/aiml/fasteddy/idaho_derived_data_20210720.csv\")\n",
    "cabauw = pd.read_csv(\"/glade/p/cisl/aiml/fasteddy/cabauw_derived_data_20210720.csv\")"
   ]
  },
  {
   "cell_type": "code",
   "execution_count": 10,
   "metadata": {},
   "outputs": [],
   "source": [
    "# Get the shapes of the input and output data \n",
    "input_size = len(input_cols)\n",
    "middle_size = 4500\n",
    "output_size = 1\n",
    "\n",
    "batch_size = 256\n",
    "\n",
    "L1_penalty = 0.0\n",
    "L2_penalty = 0.0\n",
    "dropout = 0.0\n",
    "\n",
    "lr_patience = 15\n",
    "stopping_patience = 25\n",
    "learning_rate = 1e-5\n",
    "clip = 1.0\n",
    "\n",
    "loss_coeff = 0.05"
   ]
  },
  {
   "cell_type": "markdown",
   "metadata": {},
   "source": [
    "### Use Idado as example until a config file is used"
   ]
  },
  {
   "cell_type": "code",
   "execution_count": 148,
   "metadata": {},
   "outputs": [],
   "source": [
    "train_data, rest_data = train_test_split(idaho, train_size=0.8, random_state = seed)\n",
    "valid_data, test_data = train_test_split(rest_data, test_size=0.5, random_state = seed)"
   ]
  },
  {
   "cell_type": "code",
   "execution_count": 130,
   "metadata": {},
   "outputs": [],
   "source": [
    "x_scaler, y_scaler = StandardScaler(), StandardScaler()"
   ]
  },
  {
   "cell_type": "code",
   "execution_count": 131,
   "metadata": {},
   "outputs": [],
   "source": [
    "x_train = x_scaler.fit_transform(train_data[input_cols])\n",
    "x_valid = x_scaler.transform(valid_data[input_cols])\n",
    "x_test = x_scaler.transform(test_data[input_cols])"
   ]
  },
  {
   "cell_type": "code",
   "execution_count": 132,
   "metadata": {},
   "outputs": [],
   "source": [
    "#y_train = train_data[output_cols].to_numpy()\n",
    "#y_valid = valid_data[output_cols].to_numpy()\n",
    "#y_test  = test_data[output_cols].to_numpy()\n",
    "\n",
    "y_train = y_scaler.fit_transform(train_data[output_cols])\n",
    "y_valid = y_scaler.transform(valid_data[output_cols])\n",
    "y_test = y_scaler.transform(test_data[output_cols])"
   ]
  },
  {
   "cell_type": "code",
   "execution_count": 133,
   "metadata": {},
   "outputs": [],
   "source": [
    "train_split = TensorDataset(\n",
    "    torch.from_numpy(x_train).float(),\n",
    "    torch.from_numpy(y_train).float()\n",
    ")\n",
    "train_loader = DataLoader(train_split, batch_size=batch_size, shuffle=True, num_workers=0)\n",
    "\n",
    "valid_split = TensorDataset(\n",
    "    torch.from_numpy(x_valid).float(),\n",
    "    torch.from_numpy(y_valid).float()\n",
    ")\n",
    "valid_loader = DataLoader(valid_split, batch_size=batch_size, shuffle=False, num_workers=0)"
   ]
  },
  {
   "cell_type": "markdown",
   "metadata": {},
   "source": [
    "### Load an MLP model and optimizer"
   ]
  },
  {
   "cell_type": "code",
   "execution_count": 16,
   "metadata": {},
   "outputs": [],
   "source": [
    "def load_model():\n",
    "    model = nn.Sequential(\n",
    "            nn.utils.spectral_norm(nn.Linear(input_size, middle_size)),\n",
    "            #nn.BatchNorm1d(middle_size),\n",
    "            nn.Dropout(dropout),\n",
    "            nn.LeakyReLU(),\n",
    "            #nn.Tanh(),\n",
    "            LinearNormalGamma(middle_size, output_size)\n",
    "    )\n",
    "    return model\n",
    "\n",
    "def initialize_weights(m):\n",
    "    if type(m) in [nn.Linear]:\n",
    "        nn.init.xavier_uniform_(m.weight)\n",
    "        #nn.init.xavier_uniform_(model.bias)\n",
    "        nn.init.zeros_(m.bias)\n",
    "    elif isinstance(m, nn.BatchNorm2d or nn.BatchNorm1d):\n",
    "        m.weight.data.fill_(1)\n",
    "        m.bias.data.zero_()\n",
    "        \n",
    "model = load_model()\n",
    "model = model.apply(initialize_weights).to(device)"
   ]
  },
  {
   "cell_type": "code",
   "execution_count": 46,
   "metadata": {},
   "outputs": [],
   "source": [
    "optimizer = torch.optim.Adam(model.parameters(),\n",
    "                             lr = learning_rate,\n",
    "                             weight_decay = L2_penalty,\n",
    "                             eps = 1e-7,\n",
    "                             betas = (0.9, 0.999),\n",
    "                             amsgrad = False)\n",
    "\n",
    "#lr_scheduler = torch.optim.lr_scheduler.CosineAnnealingLR(optimizer, T_max=20, eta_min=1e-2*learning_rate)\n",
    "\n",
    "lr_scheduler = torch.optim.lr_scheduler.ReduceLROnPlateau(\n",
    "        optimizer, \n",
    "        patience = lr_patience, \n",
    "        verbose = True,\n",
    "        min_lr = 1.0e-13\n",
    ")"
   ]
  },
  {
   "cell_type": "code",
   "execution_count": 47,
   "metadata": {},
   "outputs": [],
   "source": [
    "print_every = 25"
   ]
  },
  {
   "cell_type": "code",
   "execution_count": 48,
   "metadata": {},
   "outputs": [
    {
     "name": "stdout",
     "output_type": "stream",
     "text": [
      "Epoch 0 train_nll 1.543063 val_nll 1.534539 val_mae 0.764076 lr 1e-05\n",
      "Epoch 25 train_nll 0.707465 val_nll 0.726205 val_mae 0.370412 lr 1e-05\n",
      "Epoch 50 train_nll 0.494852 val_nll 0.543879 val_mae 0.343202 lr 1e-05\n",
      "Epoch    54: reducing learning rate of group 0 to 1.0000e-06.\n",
      "Best epoch 37 train_nll 0.552247 val_nll 0.555118 val_mae 0.340510 lr 1e-05\n"
     ]
    }
   ],
   "source": [
    "results_dict = defaultdict(list)\n",
    "\n",
    "for epoch in range(1000):\n",
    "    \n",
    "    # Train in batch mode\n",
    "    model.train()\n",
    "    \n",
    "    train_loss = []\n",
    "    for k, (x, y) in enumerate(train_loader):\n",
    "        optimizer.zero_grad()\n",
    "        \n",
    "        loss = evidential_regresssion_loss(y.to(device), model(x.to(device)), loss_coeff)\n",
    "        l1_norm = sum(p.abs().sum() for p in model.parameters())\n",
    "        l2_norm = sum(p.pow(2.0).sum() for p in model.parameters())\n",
    "        loss += L1_penalty * l1_norm\n",
    "        loss += L2_penalty * l2_norm\n",
    "        train_loss.append(loss.item())\n",
    "        \n",
    "        loss.backward()\n",
    "        torch.nn.utils.clip_grad_norm_(model.parameters(), clip)\n",
    "        optimizer.step()\n",
    "        \n",
    "        if not np.isfinite(loss.item()):\n",
    "            print(x)\n",
    "            raise\n",
    "        \n",
    "    # Validate \n",
    "    model.eval()\n",
    "    with torch.no_grad():\n",
    "        \n",
    "        # Validate in batch mode\n",
    "        mae_loss = []\n",
    "        valid_loss = []\n",
    "        for k, (x, y) in enumerate(valid_loader):\n",
    "            pred = model(x.to(device))\n",
    "            loss = evidential_regresssion_loss(y.to(device), pred, loss_coeff)\n",
    "            mae = torch.nn.L1Loss()(y.to(device), pred[0])\n",
    "            valid_loss.append(loss.item())\n",
    "            mae_loss.append(mae.item())\n",
    "            \n",
    "    if not np.isfinite(np.mean(valid_loss)):\n",
    "        break\n",
    "        \n",
    "    results_dict[\"epoch\"].append(epoch)\n",
    "    results_dict[\"train_nll\"].append(np.mean(train_loss))\n",
    "    results_dict[\"val_nll\"].append(np.mean(valid_loss))\n",
    "    results_dict[\"val_mae\"].append(np.mean(mae_loss))\n",
    "    results_dict[\"lr\"].append(optimizer.param_groups[0]['lr'])\n",
    "    \n",
    "    # Save the dataframe to disk\n",
    "    df = pd.DataFrame.from_dict(results_dict).reset_index()\n",
    "    df.to_csv(f\"surfacelayer/training_log.csv\", index = False)\n",
    "    \n",
    "    if epoch % print_every == 0:\n",
    "        print(f'Epoch {epoch} train_nll {results_dict[\"train_nll\"][-1]:4f}', \n",
    "              f'val_nll {results_dict[\"val_nll\"][-1]:4f}',\n",
    "              f'val_mae {results_dict[\"val_mae\"][-1]:4f}',\n",
    "              f'lr {results_dict[\"lr\"][-1]}'\n",
    "             )\n",
    "        \n",
    "    metric = 'val_mae'\n",
    "\n",
    "    # anneal the learning rate using just the box metric\n",
    "    lr_scheduler.step(results_dict[metric][-1])\n",
    "    \n",
    "    if results_dict[metric][-1] == min(results_dict[metric]):\n",
    "        state_dict = {\n",
    "            'epoch': epoch,\n",
    "            'model_state_dict': model.state_dict(),\n",
    "            'optimizer_state_dict': optimizer.state_dict(),\n",
    "            'loss': min(results_dict[metric])\n",
    "        }\n",
    "        torch.save(state_dict, f\"surfacelayer/mlp.pt\")\n",
    "    \n",
    "    # Stop training if we have not improved after X epochs\n",
    "    best_epoch = [i for i,j in enumerate(results_dict[metric]) if j == min(results_dict[metric])][0]\n",
    "    offset = epoch - best_epoch\n",
    "    if offset >= stopping_patience:\n",
    "        break\n",
    "        \n",
    "best_epoch = [i for i,j in enumerate(results_dict[metric]) if j == min(results_dict[metric])][0]\n",
    "print(f'Best epoch {best_epoch} train_nll {results_dict[\"train_nll\"][best_epoch]:4f}', \n",
    "      f'val_nll {results_dict[\"val_nll\"][best_epoch]:4f}',\n",
    "      f'val_mae {results_dict[\"val_mae\"][best_epoch]:4f}',\n",
    "      f'lr {results_dict[\"lr\"][best_epoch]}')"
   ]
  },
  {
   "cell_type": "markdown",
   "metadata": {},
   "source": [
    "### Predict on the holdout split and make some plots"
   ]
  },
  {
   "cell_type": "code",
   "execution_count": 19,
   "metadata": {},
   "outputs": [],
   "source": [
    "model = load_model().to(device)"
   ]
  },
  {
   "cell_type": "code",
   "execution_count": 20,
   "metadata": {},
   "outputs": [
    {
     "data": {
      "text/plain": [
       "Sequential(\n",
       "  (0): Linear(in_features=4, out_features=4500, bias=True)\n",
       "  (1): Dropout(p=0.0, inplace=False)\n",
       "  (2): LeakyReLU(negative_slope=0.01)\n",
       "  (3): LinearNormalGamma(\n",
       "    (linear): Linear(in_features=4500, out_features=4, bias=True)\n",
       "  )\n",
       ")"
      ]
     },
     "execution_count": 20,
     "metadata": {},
     "output_type": "execute_result"
    }
   ],
   "source": [
    "checkpoint = torch.load(\n",
    "    \"surfacelayer/mlp.pt\",\n",
    "    map_location=lambda storage, loc: storage\n",
    ")\n",
    "\n",
    "model.load_state_dict(checkpoint[\"model_state_dict\"])\n",
    "model.eval()"
   ]
  },
  {
   "cell_type": "code",
   "execution_count": 149,
   "metadata": {},
   "outputs": [],
   "source": [
    "with torch.no_grad():\n",
    "    test_input = torch.from_numpy(x_test).float()\n",
    "    y_pred = model(test_input.to(device))"
   ]
  },
  {
   "cell_type": "code",
   "execution_count": 150,
   "metadata": {},
   "outputs": [],
   "source": [
    "test_data[\"mu\"] = y_scaler.inverse_transform(y_pred[0].cpu().numpy())\n",
    "test_data[\"v\"] = y_pred[1].cpu().numpy()\n",
    "test_data[\"alpha\"] = y_pred[2].cpu().numpy()\n",
    "test_data[\"beta\"] = y_pred[3].cpu().numpy()\n",
    "test_data[\"var\"] = y_scaler.inverse_transform(np.sqrt(test_data[\"beta\"]  / (test_data[\"v\"] * (test_data[\"alpha\"] - 1))))"
   ]
  },
  {
   "cell_type": "code",
   "execution_count": 151,
   "metadata": {},
   "outputs": [],
   "source": [
    "test_data[\"error\"] = np.abs(test_data[\"mu\"] - test_data[output_cols[0]])"
   ]
  },
  {
   "cell_type": "code",
   "execution_count": 152,
   "metadata": {},
   "outputs": [],
   "source": [
    "#test_data"
   ]
  },
  {
   "cell_type": "code",
   "execution_count": 153,
   "metadata": {},
   "outputs": [],
   "source": [
    "def mape(actual, pred): \n",
    "    actual, pred = np.array(actual), np.array(pred)\n",
    "    return np.mean(np.abs((actual - pred) / actual)) * 100"
   ]
  },
  {
   "cell_type": "code",
   "execution_count": 154,
   "metadata": {},
   "outputs": [],
   "source": [
    "test_data[\"mape\"] = mape(test_data[\"mu\"], test_data[output_cols[0]])"
   ]
  },
  {
   "cell_type": "code",
   "execution_count": 155,
   "metadata": {},
   "outputs": [
    {
     "name": "stdout",
     "output_type": "stream",
     "text": [
      "Pearson: 0.8881529444836085\n",
      "MAPE: 451.8457384050614\n"
     ]
    },
    {
     "data": {
      "image/png": "[encoded data removed]",
      "text/plain": [
       "<Figure size 432x288 with 1 Axes>"
      ]
     },
     "metadata": {
      "needs_background": "light"
     },
     "output_type": "display_data"
    }
   ],
   "source": [
    "fig = plt.figure()\n",
    "ax = fig.add_subplot(111)\n",
    "\n",
    "minx = test_data[output_cols[0]].min()\n",
    "maxx = test_data[output_cols[0]].max()\n",
    "\n",
    "_ = ax.hist2d(test_data[\"mu\"], test_data[output_cols[0]], bins = 20, range = [[minx, maxx], [minx, maxx]], cmin = 1)\n",
    "ax.set_xlabel(\"Predicted\")\n",
    "ax.set_ylabel(\"True\")\n",
    "ax.set_aspect('equal', adjustable='box')\n",
    "\n",
    "print(\n",
    "    \"Pearson:\", pearsonr(test_data[\"mu\"], test_data[output_cols[0]])[0])\n",
    "print(\n",
    "    \"MAPE:\", mape(test_data[\"mu\"], test_data[output_cols[0]]))"
   ]
  },
  {
   "cell_type": "code",
   "execution_count": 156,
   "metadata": {},
   "outputs": [
    {
     "name": "stdout",
     "output_type": "stream",
     "text": [
      "Pearson: 0.49913232606721575\n",
      "MAPE: 72.5135979376706\n"
     ]
    },
    {
     "data": {
      "image/png": "[encoded data removed]",
      "text/plain": [
       "<Figure size 432x288 with 1 Axes>"
      ]
     },
     "metadata": {
      "needs_background": "light"
     },
     "output_type": "display_data"
    }
   ],
   "source": [
    "fig = plt.figure()\n",
    "ax = fig.add_subplot(111)\n",
    "\n",
    "minx = min(test_data[\"var\"].min(), test_data[\"error\"].min())\n",
    "maxx = max(test_data[\"var\"].max(), test_data[\"error\"].max())\n",
    "\n",
    "_ = ax.hist2d(test_data[\"var\"], test_data[\"error\"], bins = 20, range = [[0.07, 0.12], [0.0, 0.1]])\n",
    "ax.set_xlabel(\"Predicted variance\")\n",
    "ax.set_ylabel(\"Observed error\")\n",
    "#ax.set_aspect('equal', adjustable='box')\n",
    "\n",
    "print(\n",
    "    \"Pearson:\", pearsonr(test_data[\"var\"], test_data[\"error\"])[0])\n",
    "print(\n",
    "    \"MAPE:\", mape(test_data[\"var\"], test_data[\"error\"]))"
   ]
  },
  {
   "cell_type": "code",
   "execution_count": 157,
   "metadata": {},
   "outputs": [],
   "source": [
    "#test_data.sort_values(\"var\").plot(\"error\", \"var\")"
   ]
  },
  {
   "cell_type": "code",
   "execution_count": 158,
   "metadata": {},
   "outputs": [],
   "source": [
    "test_data = test_data.sort_values(\"var\", ascending = True)"
   ]
  },
  {
   "cell_type": "code",
   "execution_count": 159,
   "metadata": {},
   "outputs": [],
   "source": [
    "test_data[\"dummy\"] = 1\n",
    "test_data[\"cu_mae\"] = test_data[\"error\"].cumsum() / test_data[\"dummy\"].cumsum()\n",
    "test_data[\"cu_mape\"] = test_data[\"mape\"].cumsum() / test_data[\"dummy\"].cumsum()\n",
    "test_data[\"cu_var\"] = test_data[\"var\"].cumsum() / test_data[\"dummy\"].cumsum()\n",
    "test_data[\"var_cov\"] = 1 - test_data[\"dummy\"].cumsum() / len(test_data)"
   ]
  },
  {
   "cell_type": "code",
   "execution_count": 160,
   "metadata": {},
   "outputs": [
    {
     "data": {
      "text/plain": [
       "(0.005, 0.06)"
      ]
     },
     "execution_count": 160,
     "metadata": {},
     "output_type": "execute_result"
    },
    {
     "data": {
      "image/png": "[encoded data removed]",
      "text/plain": [
       "<Figure size 504x360 with 1 Axes>"
      ]
     },
     "metadata": {
      "needs_background": "light"
     },
     "output_type": "display_data"
    }
   ],
   "source": [
    "fig = plt.figure(figsize=(7, 5))\n",
    "ax = fig.add_subplot(1, 1, 1)\n",
    "\n",
    "ax.plot(test_data[\"var_cov\"], test_data[\"cu_mae\"])\n",
    "#ax.plot(test_data[\"coverage\"], test_data[\"MAPE\"])\n",
    "\n",
    "ax.set_xlabel(\"Confidence percentile\")\n",
    "ax.set_ylabel(\"Mean absolute error\")\n",
    "\n",
    "ax.set_ylim([0.005, 0.06])"
   ]
  },
  {
   "cell_type": "code",
   "execution_count": 162,
   "metadata": {},
   "outputs": [
    {
     "data": {
      "text/html": [
       "<div>\n",
       "<style scoped>\n",
       "    .dataframe tbody tr th:only-of-type {\n",
       "        vertical-align: middle;\n",
       "    }\n",
       "\n",
       "    .dataframe tbody tr th {\n",
       "        vertical-align: top;\n",
       "    }\n",
       "\n",
       "    .dataframe thead th {\n",
       "        text-align: right;\n",
       "    }\n",
       "</style>\n",
       "<table border=\"1\" class=\"dataframe\">\n",
       "  <thead>\n",
       "    <tr style=\"text-align: right;\">\n",
       "      <th></th>\n",
       "      <th>error</th>\n",
       "      <th>var</th>\n",
       "      <th>cu_mae</th>\n",
       "      <th>cu_var</th>\n",
       "      <th>var_cov</th>\n",
       "    </tr>\n",
       "  </thead>\n",
       "  <tbody>\n",
       "    <tr>\n",
       "      <th>28</th>\n",
       "      <td>0.715636</td>\n",
       "      <td>0.051491</td>\n",
       "      <td>0.715636</td>\n",
       "      <td>0.051491</td>\n",
       "      <td>0.999731</td>\n",
       "    </tr>\n",
       "    <tr>\n",
       "      <th>2</th>\n",
       "      <td>0.418359</td>\n",
       "      <td>0.061251</td>\n",
       "      <td>0.566997</td>\n",
       "      <td>0.056371</td>\n",
       "      <td>0.999462</td>\n",
       "    </tr>\n",
       "    <tr>\n",
       "      <th>14691</th>\n",
       "      <td>0.008250</td>\n",
       "      <td>0.066857</td>\n",
       "      <td>0.380748</td>\n",
       "      <td>0.059867</td>\n",
       "      <td>0.999193</td>\n",
       "    </tr>\n",
       "    <tr>\n",
       "      <th>9002</th>\n",
       "      <td>0.003470</td>\n",
       "      <td>0.066928</td>\n",
       "      <td>0.286429</td>\n",
       "      <td>0.061632</td>\n",
       "      <td>0.998924</td>\n",
       "    </tr>\n",
       "    <tr>\n",
       "      <th>23316</th>\n",
       "      <td>0.003990</td>\n",
       "      <td>0.067099</td>\n",
       "      <td>0.229941</td>\n",
       "      <td>0.062725</td>\n",
       "      <td>0.998655</td>\n",
       "    </tr>\n",
       "    <tr>\n",
       "      <th>21207</th>\n",
       "      <td>0.004202</td>\n",
       "      <td>0.067124</td>\n",
       "      <td>0.192318</td>\n",
       "      <td>0.063459</td>\n",
       "      <td>0.998386</td>\n",
       "    </tr>\n",
       "    <tr>\n",
       "      <th>28347</th>\n",
       "      <td>0.000833</td>\n",
       "      <td>0.067378</td>\n",
       "      <td>0.164963</td>\n",
       "      <td>0.064018</td>\n",
       "      <td>0.998117</td>\n",
       "    </tr>\n",
       "    <tr>\n",
       "      <th>9001</th>\n",
       "      <td>0.006753</td>\n",
       "      <td>0.067502</td>\n",
       "      <td>0.145187</td>\n",
       "      <td>0.064454</td>\n",
       "      <td>0.997848</td>\n",
       "    </tr>\n",
       "    <tr>\n",
       "      <th>18720</th>\n",
       "      <td>0.006713</td>\n",
       "      <td>0.067571</td>\n",
       "      <td>0.129801</td>\n",
       "      <td>0.064800</td>\n",
       "      <td>0.997579</td>\n",
       "    </tr>\n",
       "    <tr>\n",
       "      <th>9004</th>\n",
       "      <td>0.009189</td>\n",
       "      <td>0.067588</td>\n",
       "      <td>0.117740</td>\n",
       "      <td>0.065079</td>\n",
       "      <td>0.997310</td>\n",
       "    </tr>\n",
       "  </tbody>\n",
       "</table>\n",
       "</div>"
      ],
      "text/plain": [
       "          error       var    cu_mae    cu_var   var_cov\n",
       "28     0.715636  0.051491  0.715636  0.051491  0.999731\n",
       "2      0.418359  0.061251  0.566997  0.056371  0.999462\n",
       "14691  0.008250  0.066857  0.380748  0.059867  0.999193\n",
       "9002   0.003470  0.066928  0.286429  0.061632  0.998924\n",
       "23316  0.003990  0.067099  0.229941  0.062725  0.998655\n",
       "21207  0.004202  0.067124  0.192318  0.063459  0.998386\n",
       "28347  0.000833  0.067378  0.164963  0.064018  0.998117\n",
       "9001   0.006753  0.067502  0.145187  0.064454  0.997848\n",
       "18720  0.006713  0.067571  0.129801  0.064800  0.997579\n",
       "9004   0.009189  0.067588  0.117740  0.065079  0.997310"
      ]
     },
     "execution_count": 162,
     "metadata": {},
     "output_type": "execute_result"
    }
   ],
   "source": [
    "test_data[[\"error\", \"var\", \"cu_mae\", \"cu_var\", \"var_cov\"]].head(10)"
   ]
  },
  {
   "cell_type": "code",
   "execution_count": 163,
   "metadata": {},
   "outputs": [],
   "source": [
    "def weighted_avg_and_std(values, weights):\n",
    "    \"\"\"\n",
    "    Return the weighted average and standard deviation.\n",
    "\n",
    "    values, weights -- Numpy ndarrays with the same shape.\n",
    "    \"\"\"\n",
    "    average = np.average(values, weights=weights)\n",
    "    # Fast and numerically precise:\n",
    "    variance = numpy.average((values-average)**2, weights=weights)\n",
    "    return (average, math.sqrt(variance))"
   ]
  },
  {
   "cell_type": "code",
   "execution_count": 164,
   "metadata": {},
   "outputs": [
    {
     "data": {
      "text/plain": [
       "(0.06, 0.095)"
      ]
     },
     "execution_count": 164,
     "metadata": {},
     "output_type": "execute_result"
    },
    {
     "data": {
      "image/png": "[encoded data removed]",
      "text/plain": [
       "<Figure size 504x360 with 1 Axes>"
      ]
     },
     "metadata": {
      "needs_background": "light"
     },
     "output_type": "display_data"
    }
   ],
   "source": [
    "fig = plt.figure(figsize=(7, 5))\n",
    "ax = fig.add_subplot(1, 1, 1)\n",
    "\n",
    "ax.plot(test_data[\"cu_mae\"], test_data[\"cu_var\"], zorder = 2, color = 'b')\n",
    "\n",
    "errorbars = test_data[\"dummy\"].cumsum()\n",
    "ax.errorbar(test_data[\"cu_mae\"], test_data[\"cu_var\"], \n",
    "            yerr = test_data[\"cu_mae\"] / np.sqrt(test_data[\"dummy\"].cumsum()),\n",
    "           color = 'r', zorder = 1, alpha = 0.5\n",
    "           )\n",
    "\n",
    "ax.set_xlabel(\"Mean absolute error\")\n",
    "ax.set_ylabel(\"Epistemic variance\")\n",
    "\n",
    "ax.set_xlim([0.01, 0.04])\n",
    "ax.set_ylim([0.06, 0.095])"
   ]
  },
  {
   "cell_type": "code",
   "execution_count": 165,
   "metadata": {},
   "outputs": [],
   "source": [
    "obs = test_data.sort_values(\"error\", ascending = True).copy()\n",
    "obs[\"mae_cov\"] = 1 - obs[\"dummy\"].cumsum() / len(obs)"
   ]
  },
  {
   "cell_type": "code",
   "execution_count": 166,
   "metadata": {},
   "outputs": [],
   "source": [
    "h, b1, b2, _ = ax.hist2d(obs[\"var_cov\"], obs[\"mae_cov\"], bins = 20)"
   ]
  },
  {
   "cell_type": "code",
   "execution_count": 171,
   "metadata": {},
   "outputs": [
    {
     "data": {
      "text/plain": [
       "Text(0, 0.5, 'Observed confidence percentile (mae)')"
      ]
     },
     "execution_count": 171,
     "metadata": {},
     "output_type": "execute_result"
    },
    {
     "data": {
      "image/png": "[encoded data removed]",
      "text/plain": [
       "<Figure size 504x360 with 1 Axes>"
      ]
     },
     "metadata": {
      "needs_background": "light"
     },
     "output_type": "display_data"
    }
   ],
   "source": [
    "cov_var = np.arange(0.025, 1.025, 0.05)\n",
    "cov_mae = [np.average(cov_var, weights = hi) for hi in h]\n",
    "cov_mae_std = [np.average((cov_mae-cov_var)**2, weights=hi) for hi in h]\n",
    "cov_var_std = [np.average((cov_mae-cov_var)**2, weights=hi) for hi in h.T]\n",
    "\n",
    "fig = plt.figure(figsize=(7, 5))\n",
    "ax = fig.add_subplot(1, 1, 1)\n",
    "\n",
    "ax.plot(cov_var, cov_mae)\n",
    "ax.errorbar(cov_var, cov_mae, xerr = cov_var_std, yerr = cov_mae_std)\n",
    "ax.plot(cov_var, cov_var, 'k--')\n",
    "\n",
    "ax.set_xlabel(\"Estimated confidence percentile (var)\")\n",
    "ax.set_ylabel(\"Observed confidence percentile (mae)\")\n",
    "\n",
    "#ax.set_xlim([0,1])\n",
    "#ax.set_ylim([0,1])"
   ]
  },
  {
   "cell_type": "code",
   "execution_count": 168,
   "metadata": {},
   "outputs": [
    {
     "data": {
      "text/plain": [
       "0.1263129177564662"
      ]
     },
     "execution_count": 168,
     "metadata": {},
     "output_type": "execute_result"
    }
   ],
   "source": [
    "np.abs(cov_var-cov_mae).mean()"
   ]
  },
  {
   "cell_type": "code",
   "execution_count": null,
   "metadata": {},
   "outputs": [],
   "source": []
  }
 ],
 "metadata": {
  "kernelspec": {
   "display_name": "py37",
   "language": "python",
   "name": "py37"
  },
  "language_info": {
   "codemirror_mode": {
    "name": "ipython",
    "version": 3
   },
   "file_extension": ".py",
   "mimetype": "text/x-python",
   "name": "python",
   "nbconvert_exporter": "python",
   "pygments_lexer": "ipython3",
   "version": "3.7.5"
  }
 },
 "nbformat": 4,
 "nbformat_minor": 4
}
